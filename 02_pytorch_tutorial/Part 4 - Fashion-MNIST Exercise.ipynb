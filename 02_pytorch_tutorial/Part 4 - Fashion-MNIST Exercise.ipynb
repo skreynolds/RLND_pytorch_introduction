{
 "cells": [
  {
   "cell_type": "markdown",
   "metadata": {},
   "source": [
    "# Classifying Fashion-MNIST\n",
    "\n",
    "Now it's your turn to build and train a neural network. You'll be using the [Fashion-MNIST dataset](https://github.com/zalandoresearch/fashion-mnist), a drop-in replacement for the MNIST dataset. MNIST is actually quite trivial with neural networks where you can easily achieve better than 97% accuracy. Fashion-MNIST is a set of 28x28 greyscale images of clothes. It's more complex than MNIST, so it's a better representation of the actual performance of your network, and a better representation of datasets you'll use in the real world.\n",
    "\n",
    "<img src='assets/fashion-mnist-sprite.png' width=500px>\n",
    "\n",
    "In this notebook, you'll build your own neural network. For the most part, you could just copy and paste the code from Part 3, but you wouldn't be learning. It's important for you to write the code yourself and get it to work. Feel free to consult the previous notebook though as you work through this.\n",
    "\n",
    "First off, let's load the dataset through torchvision."
   ]
  },
  {
   "cell_type": "code",
   "execution_count": 1,
   "metadata": {},
   "outputs": [
    {
     "name": "stdout",
     "output_type": "stream",
     "text": [
      "Downloading http://fashion-mnist.s3-website.eu-central-1.amazonaws.com/train-images-idx3-ubyte.gz\n",
      "Downloading http://fashion-mnist.s3-website.eu-central-1.amazonaws.com/train-labels-idx1-ubyte.gz\n",
      "Downloading http://fashion-mnist.s3-website.eu-central-1.amazonaws.com/t10k-images-idx3-ubyte.gz\n",
      "Downloading http://fashion-mnist.s3-website.eu-central-1.amazonaws.com/t10k-labels-idx1-ubyte.gz\n",
      "Processing...\n",
      "Done!\n"
     ]
    }
   ],
   "source": [
    "import torch\n",
    "from torchvision import datasets, transforms\n",
    "import helper\n",
    "\n",
    "# Define a transform to normalize the data\n",
    "transform = transforms.Compose([transforms.ToTensor(),\n",
    "                                transforms.Normalize((0.5, 0.5, 0.5), (0.5, 0.5, 0.5))])\n",
    "# Download and load the training data\n",
    "trainset = datasets.FashionMNIST('F_MNIST_data/', download=True, train=True, transform=transform)\n",
    "trainloader = torch.utils.data.DataLoader(trainset, batch_size=64, shuffle=True)\n",
    "\n",
    "# Download and load the test data\n",
    "testset = datasets.FashionMNIST('F_MNIST_data/', download=True, train=False, transform=transform)\n",
    "testloader = torch.utils.data.DataLoader(testset, batch_size=64, shuffle=True)"
   ]
  },
  {
   "cell_type": "markdown",
   "metadata": {},
   "source": [
    "Here we can see one of the images."
   ]
  },
  {
   "cell_type": "code",
   "execution_count": 3,
   "metadata": {},
   "outputs": [
    {
     "data": {
      "text/plain": [
       "<matplotlib.axes._subplots.AxesSubplot at 0x7f5d80cf0a20>"
      ]
     },
     "execution_count": 3,
     "metadata": {},
     "output_type": "execute_result"
    }
   ],
   "source": [
    "image, label = next(iter(trainloader))\n",
    "helper.imshow(image[0,:])"
   ]
  },
  {
   "cell_type": "markdown",
   "metadata": {},
   "source": [
    "With the data loaded, it's time to import the necessary packages."
   ]
  },
  {
   "cell_type": "code",
   "execution_count": 4,
   "metadata": {},
   "outputs": [],
   "source": [
    "%matplotlib inline\n",
    "%config InlineBackend.figure_format = 'retina'\n",
    "\n",
    "import matplotlib.pyplot as plt\n",
    "import numpy as np\n",
    "import time\n",
    "\n",
    "import torch\n",
    "from torch import nn\n",
    "from torch import optim\n",
    "import torch.nn.functional as F\n",
    "from torchvision import datasets, transforms\n",
    "\n",
    "import helper"
   ]
  },
  {
   "cell_type": "markdown",
   "metadata": {},
   "source": [
    "## Building the network\n",
    "\n",
    "Here you should define your network. As with MNIST, each image is 28x28 which is a total of 784 pixels, and there are 10 classes. You should include at least one hidden layer. We suggest you use ReLU activations for the layers and to return the logits from the forward pass. It's up to you how many layers you add and the size of those layers."
   ]
  },
  {
   "cell_type": "code",
   "execution_count": 6,
   "metadata": {},
   "outputs": [
    {
     "data": {
      "text/plain": [
       "Network(\n",
       "  (fc1): Linear(in_features=784, out_features=400, bias=True)\n",
       "  (fc2): Linear(in_features=400, out_features=200, bias=True)\n",
       "  (fc3): Linear(in_features=200, out_features=100, bias=True)\n",
       "  (fc4): Linear(in_features=100, out_features=10, bias=True)\n",
       ")"
      ]
     },
     "execution_count": 6,
     "metadata": {},
     "output_type": "execute_result"
    }
   ],
   "source": [
    "# TODO: Define your network architecture here\n",
    "class Network(nn.Module):\n",
    "    \n",
    "    def __init__(self):\n",
    "        super().__init__()\n",
    "        \n",
    "        # Defining the layers\n",
    "        self.fc1 = nn.Linear(784, 400)\n",
    "        self.fc2 = nn.Linear(400, 200)\n",
    "        self.fc3 = nn.Linear(200, 100)\n",
    "        \n",
    "        # Output layer\n",
    "        self.fc4 = nn.Linear(100, 10)\n",
    "        \n",
    "    def forward(self, x):\n",
    "        '''Forward pass through the network, returns the output logits'''\n",
    "        \n",
    "        x = self.fc1(x)\n",
    "        x = F.relu(x)\n",
    "        x = self.fc2(x)\n",
    "        x = F.relu(x)\n",
    "        x = self.fc3(x)\n",
    "        x = F.relu(x)\n",
    "        x = self.fc4(x)\n",
    "        \n",
    "        return x\n",
    "    \n",
    "model = Network()\n",
    "\n",
    "device = torch.device(\"cuda:0\" if torch.cuda.is_available() else \"cpu\")\n",
    "\n",
    "model = model.to(device)\n",
    "\n",
    "model"
   ]
  },
  {
   "cell_type": "markdown",
   "metadata": {},
   "source": [
    "# Train the network\n",
    "\n",
    "Now you should create your network and train it. First you'll want to define [the criterion](http://pytorch.org/docs/master/nn.html#loss-functions) ( something like `nn.CrossEntropyLoss`) and [the optimizer](http://pytorch.org/docs/master/optim.html) (typically `optim.SGD` or `optim.Adam`).\n",
    "\n",
    "Then write the training code. Remember the training pass is a fairly straightforward process:\n",
    "\n",
    "* Make a forward pass through the network to get the logits \n",
    "* Use the logits to calculate the loss\n",
    "* Perform a backward pass through the network with `loss.backward()` to calculate the gradients\n",
    "* Take a step with the optimizer to update the weights\n",
    "\n",
    "By adjusting the hyperparameters (hidden units, learning rate, etc), you should be able to get the training loss below 0.4."
   ]
  },
  {
   "cell_type": "code",
   "execution_count": 7,
   "metadata": {},
   "outputs": [],
   "source": [
    "# TODO: Create the network, define the criterion and optimizer\n",
    "criterion = nn.CrossEntropyLoss()\n",
    "optimizer = optim.SGD(model.parameters(), lr=0.001)"
   ]
  },
  {
   "cell_type": "code",
   "execution_count": 11,
   "metadata": {},
   "outputs": [
    {
     "name": "stdout",
     "output_type": "stream",
     "text": [
      "Epoch: 1/5... Loss: 1.0752\n",
      "Epoch: 1/5... Loss: 1.0689\n",
      "Epoch: 1/5... Loss: 1.0563\n",
      "Epoch: 1/5... Loss: 1.0130\n",
      "Epoch: 1/5... Loss: 1.0244\n",
      "Epoch: 1/5... Loss: 1.0129\n",
      "Epoch: 1/5... Loss: 1.0237\n",
      "Epoch: 1/5... Loss: 1.0061\n",
      "Epoch: 1/5... Loss: 0.9996\n",
      "Epoch: 1/5... Loss: 1.0134\n",
      "Epoch: 1/5... Loss: 1.0031\n",
      "Epoch: 1/5... Loss: 0.9892\n",
      "Epoch: 1/5... Loss: 0.9802\n",
      "Epoch: 1/5... Loss: 0.9758\n",
      "Epoch: 1/5... Loss: 0.9913\n",
      "Epoch: 1/5... Loss: 0.9643\n",
      "Epoch: 1/5... Loss: 0.9570\n",
      "Epoch: 1/5... Loss: 0.9956\n",
      "Epoch: 1/5... Loss: 0.9590\n",
      "Epoch: 1/5... Loss: 0.9562\n",
      "Epoch: 1/5... Loss: 0.9519\n",
      "Epoch: 1/5... Loss: 0.9362\n",
      "Epoch: 1/5... Loss: 0.9415\n",
      "Epoch: 2/5... Loss: 0.5020\n",
      "Epoch: 2/5... Loss: 0.9054\n",
      "Epoch: 2/5... Loss: 0.9148\n",
      "Epoch: 2/5... Loss: 0.8948\n",
      "Epoch: 2/5... Loss: 0.8886\n",
      "Epoch: 2/5... Loss: 0.8945\n",
      "Epoch: 2/5... Loss: 0.8848\n",
      "Epoch: 2/5... Loss: 0.8891\n",
      "Epoch: 2/5... Loss: 0.8897\n",
      "Epoch: 2/5... Loss: 0.8778\n",
      "Epoch: 2/5... Loss: 0.8852\n",
      "Epoch: 2/5... Loss: 0.8697\n",
      "Epoch: 2/5... Loss: 0.8679\n",
      "Epoch: 2/5... Loss: 0.8933\n",
      "Epoch: 2/5... Loss: 0.8715\n",
      "Epoch: 2/5... Loss: 0.8553\n",
      "Epoch: 2/5... Loss: 0.8703\n",
      "Epoch: 2/5... Loss: 0.8441\n",
      "Epoch: 2/5... Loss: 0.8606\n",
      "Epoch: 2/5... Loss: 0.8454\n",
      "Epoch: 2/5... Loss: 0.8529\n",
      "Epoch: 2/5... Loss: 0.8439\n",
      "Epoch: 2/5... Loss: 0.8454\n",
      "Epoch: 3/5... Loss: 0.0828\n",
      "Epoch: 3/5... Loss: 0.8342\n",
      "Epoch: 3/5... Loss: 0.8417\n",
      "Epoch: 3/5... Loss: 0.8027\n",
      "Epoch: 3/5... Loss: 0.8173\n",
      "Epoch: 3/5... Loss: 0.8027\n",
      "Epoch: 3/5... Loss: 0.8031\n",
      "Epoch: 3/5... Loss: 0.8054\n",
      "Epoch: 3/5... Loss: 0.8149\n",
      "Epoch: 3/5... Loss: 0.7907\n",
      "Epoch: 3/5... Loss: 0.7828\n",
      "Epoch: 3/5... Loss: 0.7735\n",
      "Epoch: 3/5... Loss: 0.8132\n",
      "Epoch: 3/5... Loss: 0.7981\n",
      "Epoch: 3/5... Loss: 0.7936\n",
      "Epoch: 3/5... Loss: 0.8173\n",
      "Epoch: 3/5... Loss: 0.7985\n",
      "Epoch: 3/5... Loss: 0.7618\n",
      "Epoch: 3/5... Loss: 0.7729\n",
      "Epoch: 3/5... Loss: 0.7933\n",
      "Epoch: 3/5... Loss: 0.7937\n",
      "Epoch: 3/5... Loss: 0.7450\n",
      "Epoch: 3/5... Loss: 0.7472\n",
      "Epoch: 3/5... Loss: 0.7228\n",
      "Epoch: 4/5... Loss: 0.4998\n",
      "Epoch: 4/5... Loss: 0.7761\n",
      "Epoch: 4/5... Loss: 0.7459\n",
      "Epoch: 4/5... Loss: 0.7438\n",
      "Epoch: 4/5... Loss: 0.7427\n",
      "Epoch: 4/5... Loss: 0.7409\n",
      "Epoch: 4/5... Loss: 0.7086\n",
      "Epoch: 4/5... Loss: 0.7554\n",
      "Epoch: 4/5... Loss: 0.7484\n",
      "Epoch: 4/5... Loss: 0.7191\n",
      "Epoch: 4/5... Loss: 0.7887\n",
      "Epoch: 4/5... Loss: 0.7275\n",
      "Epoch: 4/5... Loss: 0.7304\n",
      "Epoch: 4/5... Loss: 0.7428\n",
      "Epoch: 4/5... Loss: 0.7218\n",
      "Epoch: 4/5... Loss: 0.7254\n",
      "Epoch: 4/5... Loss: 0.7176\n",
      "Epoch: 4/5... Loss: 0.7110\n",
      "Epoch: 4/5... Loss: 0.7072\n",
      "Epoch: 4/5... Loss: 0.7039\n",
      "Epoch: 4/5... Loss: 0.7116\n",
      "Epoch: 4/5... Loss: 0.7582\n",
      "Epoch: 4/5... Loss: 0.7119\n",
      "Epoch: 5/5... Loss: 0.1348\n",
      "Epoch: 5/5... Loss: 0.7304\n",
      "Epoch: 5/5... Loss: 0.7036\n",
      "Epoch: 5/5... Loss: 0.7138\n",
      "Epoch: 5/5... Loss: 0.7074\n",
      "Epoch: 5/5... Loss: 0.7046\n",
      "Epoch: 5/5... Loss: 0.6898\n",
      "Epoch: 5/5... Loss: 0.6913\n",
      "Epoch: 5/5... Loss: 0.6986\n",
      "Epoch: 5/5... Loss: 0.6974\n",
      "Epoch: 5/5... Loss: 0.6711\n",
      "Epoch: 5/5... Loss: 0.6841\n",
      "Epoch: 5/5... Loss: 0.7114\n",
      "Epoch: 5/5... Loss: 0.7202\n",
      "Epoch: 5/5... Loss: 0.6711\n",
      "Epoch: 5/5... Loss: 0.6777\n",
      "Epoch: 5/5... Loss: 0.6947\n",
      "Epoch: 5/5... Loss: 0.6686\n",
      "Epoch: 5/5... Loss: 0.6897\n",
      "Epoch: 5/5... Loss: 0.6678\n",
      "Epoch: 5/5... Loss: 0.6842\n",
      "Epoch: 5/5... Loss: 0.6748\n",
      "Epoch: 5/5... Loss: 0.6858\n",
      "Epoch: 5/5... Loss: 0.6733\n"
     ]
    }
   ],
   "source": [
    "# TODO: Train the network here\n",
    "\n",
    "# initialise\n",
    "epochs = 5\n",
    "print_every = 40\n",
    "steps = 0\n",
    "\n",
    "# train\n",
    "for e in range(epochs):\n",
    "    running_loss = 0\n",
    "    for images, labels in iter(trainloader):\n",
    "        \n",
    "        images = images.to(device)\n",
    "        labels = labels.to(device)\n",
    "        \n",
    "        steps += 1\n",
    "        # Flatten FashionMNIST images into 784 long vector\n",
    "        images.resize_(images.size()[0], 784)\n",
    "        \n",
    "        optimizer.zero_grad()\n",
    "        \n",
    "        # Forward and backward passes\n",
    "        output = model.forward(images)\n",
    "        loss = criterion(output, labels)\n",
    "        loss.backward()\n",
    "        optimizer.step()\n",
    "        \n",
    "        running_loss += loss.item()\n",
    "        \n",
    "        if steps % print_every == 0:\n",
    "            print(\"Epoch: {}/{}...\".format(e+1, epochs),\n",
    "                  \"Loss: {:.4f}\".format(running_loss/print_every))\n",
    "            \n",
    "            running_loss = 0"
   ]
  },
  {
   "cell_type": "code",
   "execution_count": 17,
   "metadata": {},
   "outputs": [
    {
     "data": {
      "image/png": "[encoded data removed]",
      "text/plain": [
       "<Figure size 432x648 with 2 Axes>"
      ]
     },
     "metadata": {
      "image/png": {
       "height": 206,
       "width": 423
      }
     },
     "output_type": "display_data"
    }
   ],
   "source": [
    "# Test out your network!\n",
    "\n",
    "dataiter = iter(testloader)\n",
    "images, labels = dataiter.next()\n",
    "\n",
    "images = images.to(device)\n",
    "labels = labels.to(device)\n",
    "\n",
    "img = images[0]\n",
    "# Convert 2D image to 1D vector\n",
    "img = img.resize_(1, 784)\n",
    "\n",
    "with torch.no_grad():\n",
    "    logits = model.forward(img)\n",
    "\n",
    "# TODO: Calculate the class probabilities (softmax) for img\n",
    "ps = F.softmax(logits, dim=1)\n",
    "\n",
    "# Plot the image and probabilities\n",
    "helper.view_classify((img.cpu()).resize_(1, 28, 28), ps.cpu(), version='Fashion')"
   ]
  },
  {
   "cell_type": "markdown",
   "metadata": {},
   "source": [
    "Now that your network is trained, you'll want to save it to disk so you can load it later instead of training it again. Obviously, it's impractical to train a network every time you need one. In practice, you'll train it once, save the model, then reload it for further training or making predictions. In the next part, I'll show you how to save and load trained models."
   ]
  }
 ],
 "metadata": {
  "kernelspec": {
   "display_name": "Python [default]",
   "language": "python",
   "name": "python3"
  },
  "language_info": {
   "codemirror_mode": {
    "name": "ipython",
    "version": 3
   },
   "file_extension": ".py",
   "mimetype": "text/x-python",
   "name": "python",
   "nbconvert_exporter": "python",
   "pygments_lexer": "ipython3",
   "version": "3.5.2"
  },
  "widgets": {
   "state": {},
   "version": "1.1.2"
  }
 },
 "nbformat": 4,
 "nbformat_minor": 2
}
